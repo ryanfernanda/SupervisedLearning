{
  "nbformat": 4,
  "nbformat_minor": 0,
  "metadata": {
    "colab": {
      "name": "[Classification] Heart Disease Health Indicators.ipynb",
      "provenance": [],
      "collapsed_sections": [],
      "mount_file_id": "1gds6vQQr85dfkjcW4IIliIfh3qVuLLgQ",
      "authorship_tag": "ABX9TyPrUrIUlldNsf986t8NEc/Z",
      "include_colab_link": true
    },
    "kernelspec": {
      "name": "python3",
      "display_name": "Python 3"
    },
    "language_info": {
      "name": "python"
    }
  },
  "cells": [
    {
      "cell_type": "markdown",
      "metadata": {
        "id": "view-in-github",
        "colab_type": "text"
      },
      "source": [
        "<a href=\"https://colab.research.google.com/github/ryanfernanda/SupervisedLearning/blob/main/Classification/Heart%20Disease%20Health%20Indicators.ipynb\" target=\"_parent\"><img src=\"https://colab.research.google.com/assets/colab-badge.svg\" alt=\"Open In Colab\"/></a>"
      ]
    },
    {
      "cell_type": "code",
      "source": [
        "# Mount the drive to colab\n",
        "from google.colab import drive\n",
        "drive.mount('/content/drive')"
      ],
      "metadata": {
        "id": "fP-C3rLaC8rH",
        "colab": {
          "base_uri": "https://localhost:8080/"
        },
        "outputId": "020ae518-da37-40c3-9c92-a57dd6c89038"
      },
      "execution_count": 1,
      "outputs": [
        {
          "output_type": "stream",
          "name": "stdout",
          "text": [
            "Drive already mounted at /content/drive; to attempt to forcibly remount, call drive.mount(\"/content/drive\", force_remount=True).\n"
          ]
        }
      ]
    },
    {
      "cell_type": "markdown",
      "source": [
        "# **1. Dataset**\n",
        "Heart Disease Health Indicators Dataset (from Kaggle)\n",
        "\n",
        "Link : https://www.kaggle.com/alexteboul/heart-disease-health-indicators-dataset"
      ],
      "metadata": {
        "id": "mqLUwuB1HDHo"
      }
    },
    {
      "cell_type": "code",
      "execution_count": 2,
      "metadata": {
        "colab": {
          "base_uri": "https://localhost:8080/",
          "height": 488
        },
        "id": "hmvOPbQQChup",
        "outputId": "c078ea5f-afdc-404a-be07-db664e9a53b2"
      },
      "outputs": [
        {
          "output_type": "execute_result",
          "data": {
            "text/html": [
              "\n",
              "  <div id=\"df-c02d7296-06b0-458c-9e55-75f3ebc06af0\">\n",
              "    <div class=\"colab-df-container\">\n",
              "      <div>\n",
              "<style scoped>\n",
              "    .dataframe tbody tr th:only-of-type {\n",
              "        vertical-align: middle;\n",
              "    }\n",
              "\n",
              "    .dataframe tbody tr th {\n",
              "        vertical-align: top;\n",
              "    }\n",
              "\n",
              "    .dataframe thead th {\n",
              "        text-align: right;\n",
              "    }\n",
              "</style>\n",
              "<table border=\"1\" class=\"dataframe\">\n",
              "  <thead>\n",
              "    <tr style=\"text-align: right;\">\n",
              "      <th></th>\n",
              "      <th>HeartDiseaseorAttack</th>\n",
              "      <th>HighBP</th>\n",
              "      <th>HighChol</th>\n",
              "      <th>CholCheck</th>\n",
              "      <th>BMI</th>\n",
              "      <th>Smoker</th>\n",
              "      <th>Stroke</th>\n",
              "      <th>Diabetes</th>\n",
              "      <th>PhysActivity</th>\n",
              "      <th>Fruits</th>\n",
              "      <th>Veggies</th>\n",
              "      <th>HvyAlcoholConsump</th>\n",
              "      <th>AnyHealthcare</th>\n",
              "      <th>NoDocbcCost</th>\n",
              "      <th>GenHlth</th>\n",
              "      <th>MentHlth</th>\n",
              "      <th>PhysHlth</th>\n",
              "      <th>DiffWalk</th>\n",
              "      <th>Sex</th>\n",
              "      <th>Age</th>\n",
              "      <th>Education</th>\n",
              "      <th>Income</th>\n",
              "    </tr>\n",
              "  </thead>\n",
              "  <tbody>\n",
              "    <tr>\n",
              "      <th>0</th>\n",
              "      <td>0.0</td>\n",
              "      <td>1.0</td>\n",
              "      <td>1.0</td>\n",
              "      <td>1.0</td>\n",
              "      <td>40.0</td>\n",
              "      <td>1.0</td>\n",
              "      <td>0.0</td>\n",
              "      <td>0.0</td>\n",
              "      <td>0.0</td>\n",
              "      <td>0.0</td>\n",
              "      <td>1.0</td>\n",
              "      <td>0.0</td>\n",
              "      <td>1.0</td>\n",
              "      <td>0.0</td>\n",
              "      <td>5.0</td>\n",
              "      <td>18.0</td>\n",
              "      <td>15.0</td>\n",
              "      <td>1.0</td>\n",
              "      <td>0.0</td>\n",
              "      <td>9.0</td>\n",
              "      <td>4.0</td>\n",
              "      <td>3.0</td>\n",
              "    </tr>\n",
              "    <tr>\n",
              "      <th>1</th>\n",
              "      <td>0.0</td>\n",
              "      <td>0.0</td>\n",
              "      <td>0.0</td>\n",
              "      <td>0.0</td>\n",
              "      <td>25.0</td>\n",
              "      <td>1.0</td>\n",
              "      <td>0.0</td>\n",
              "      <td>0.0</td>\n",
              "      <td>1.0</td>\n",
              "      <td>0.0</td>\n",
              "      <td>0.0</td>\n",
              "      <td>0.0</td>\n",
              "      <td>0.0</td>\n",
              "      <td>1.0</td>\n",
              "      <td>3.0</td>\n",
              "      <td>0.0</td>\n",
              "      <td>0.0</td>\n",
              "      <td>0.0</td>\n",
              "      <td>0.0</td>\n",
              "      <td>7.0</td>\n",
              "      <td>6.0</td>\n",
              "      <td>1.0</td>\n",
              "    </tr>\n",
              "    <tr>\n",
              "      <th>2</th>\n",
              "      <td>0.0</td>\n",
              "      <td>1.0</td>\n",
              "      <td>1.0</td>\n",
              "      <td>1.0</td>\n",
              "      <td>28.0</td>\n",
              "      <td>0.0</td>\n",
              "      <td>0.0</td>\n",
              "      <td>0.0</td>\n",
              "      <td>0.0</td>\n",
              "      <td>1.0</td>\n",
              "      <td>0.0</td>\n",
              "      <td>0.0</td>\n",
              "      <td>1.0</td>\n",
              "      <td>1.0</td>\n",
              "      <td>5.0</td>\n",
              "      <td>30.0</td>\n",
              "      <td>30.0</td>\n",
              "      <td>1.0</td>\n",
              "      <td>0.0</td>\n",
              "      <td>9.0</td>\n",
              "      <td>4.0</td>\n",
              "      <td>8.0</td>\n",
              "    </tr>\n",
              "    <tr>\n",
              "      <th>3</th>\n",
              "      <td>0.0</td>\n",
              "      <td>1.0</td>\n",
              "      <td>0.0</td>\n",
              "      <td>1.0</td>\n",
              "      <td>27.0</td>\n",
              "      <td>0.0</td>\n",
              "      <td>0.0</td>\n",
              "      <td>0.0</td>\n",
              "      <td>1.0</td>\n",
              "      <td>1.0</td>\n",
              "      <td>1.0</td>\n",
              "      <td>0.0</td>\n",
              "      <td>1.0</td>\n",
              "      <td>0.0</td>\n",
              "      <td>2.0</td>\n",
              "      <td>0.0</td>\n",
              "      <td>0.0</td>\n",
              "      <td>0.0</td>\n",
              "      <td>0.0</td>\n",
              "      <td>11.0</td>\n",
              "      <td>3.0</td>\n",
              "      <td>6.0</td>\n",
              "    </tr>\n",
              "    <tr>\n",
              "      <th>4</th>\n",
              "      <td>0.0</td>\n",
              "      <td>1.0</td>\n",
              "      <td>1.0</td>\n",
              "      <td>1.0</td>\n",
              "      <td>24.0</td>\n",
              "      <td>0.0</td>\n",
              "      <td>0.0</td>\n",
              "      <td>0.0</td>\n",
              "      <td>1.0</td>\n",
              "      <td>1.0</td>\n",
              "      <td>1.0</td>\n",
              "      <td>0.0</td>\n",
              "      <td>1.0</td>\n",
              "      <td>0.0</td>\n",
              "      <td>2.0</td>\n",
              "      <td>3.0</td>\n",
              "      <td>0.0</td>\n",
              "      <td>0.0</td>\n",
              "      <td>0.0</td>\n",
              "      <td>11.0</td>\n",
              "      <td>5.0</td>\n",
              "      <td>4.0</td>\n",
              "    </tr>\n",
              "    <tr>\n",
              "      <th>...</th>\n",
              "      <td>...</td>\n",
              "      <td>...</td>\n",
              "      <td>...</td>\n",
              "      <td>...</td>\n",
              "      <td>...</td>\n",
              "      <td>...</td>\n",
              "      <td>...</td>\n",
              "      <td>...</td>\n",
              "      <td>...</td>\n",
              "      <td>...</td>\n",
              "      <td>...</td>\n",
              "      <td>...</td>\n",
              "      <td>...</td>\n",
              "      <td>...</td>\n",
              "      <td>...</td>\n",
              "      <td>...</td>\n",
              "      <td>...</td>\n",
              "      <td>...</td>\n",
              "      <td>...</td>\n",
              "      <td>...</td>\n",
              "      <td>...</td>\n",
              "      <td>...</td>\n",
              "    </tr>\n",
              "    <tr>\n",
              "      <th>253675</th>\n",
              "      <td>0.0</td>\n",
              "      <td>1.0</td>\n",
              "      <td>1.0</td>\n",
              "      <td>1.0</td>\n",
              "      <td>45.0</td>\n",
              "      <td>0.0</td>\n",
              "      <td>0.0</td>\n",
              "      <td>0.0</td>\n",
              "      <td>0.0</td>\n",
              "      <td>1.0</td>\n",
              "      <td>1.0</td>\n",
              "      <td>0.0</td>\n",
              "      <td>1.0</td>\n",
              "      <td>0.0</td>\n",
              "      <td>3.0</td>\n",
              "      <td>0.0</td>\n",
              "      <td>5.0</td>\n",
              "      <td>0.0</td>\n",
              "      <td>1.0</td>\n",
              "      <td>5.0</td>\n",
              "      <td>6.0</td>\n",
              "      <td>7.0</td>\n",
              "    </tr>\n",
              "    <tr>\n",
              "      <th>253676</th>\n",
              "      <td>0.0</td>\n",
              "      <td>1.0</td>\n",
              "      <td>1.0</td>\n",
              "      <td>1.0</td>\n",
              "      <td>18.0</td>\n",
              "      <td>0.0</td>\n",
              "      <td>0.0</td>\n",
              "      <td>2.0</td>\n",
              "      <td>0.0</td>\n",
              "      <td>0.0</td>\n",
              "      <td>0.0</td>\n",
              "      <td>0.0</td>\n",
              "      <td>1.0</td>\n",
              "      <td>0.0</td>\n",
              "      <td>4.0</td>\n",
              "      <td>0.0</td>\n",
              "      <td>0.0</td>\n",
              "      <td>1.0</td>\n",
              "      <td>0.0</td>\n",
              "      <td>11.0</td>\n",
              "      <td>2.0</td>\n",
              "      <td>4.0</td>\n",
              "    </tr>\n",
              "    <tr>\n",
              "      <th>253677</th>\n",
              "      <td>0.0</td>\n",
              "      <td>0.0</td>\n",
              "      <td>0.0</td>\n",
              "      <td>1.0</td>\n",
              "      <td>28.0</td>\n",
              "      <td>0.0</td>\n",
              "      <td>0.0</td>\n",
              "      <td>0.0</td>\n",
              "      <td>1.0</td>\n",
              "      <td>1.0</td>\n",
              "      <td>0.0</td>\n",
              "      <td>0.0</td>\n",
              "      <td>1.0</td>\n",
              "      <td>0.0</td>\n",
              "      <td>1.0</td>\n",
              "      <td>0.0</td>\n",
              "      <td>0.0</td>\n",
              "      <td>0.0</td>\n",
              "      <td>0.0</td>\n",
              "      <td>2.0</td>\n",
              "      <td>5.0</td>\n",
              "      <td>2.0</td>\n",
              "    </tr>\n",
              "    <tr>\n",
              "      <th>253678</th>\n",
              "      <td>0.0</td>\n",
              "      <td>1.0</td>\n",
              "      <td>0.0</td>\n",
              "      <td>1.0</td>\n",
              "      <td>23.0</td>\n",
              "      <td>0.0</td>\n",
              "      <td>0.0</td>\n",
              "      <td>0.0</td>\n",
              "      <td>0.0</td>\n",
              "      <td>1.0</td>\n",
              "      <td>1.0</td>\n",
              "      <td>0.0</td>\n",
              "      <td>1.0</td>\n",
              "      <td>0.0</td>\n",
              "      <td>3.0</td>\n",
              "      <td>0.0</td>\n",
              "      <td>0.0</td>\n",
              "      <td>0.0</td>\n",
              "      <td>1.0</td>\n",
              "      <td>7.0</td>\n",
              "      <td>5.0</td>\n",
              "      <td>1.0</td>\n",
              "    </tr>\n",
              "    <tr>\n",
              "      <th>253679</th>\n",
              "      <td>1.0</td>\n",
              "      <td>1.0</td>\n",
              "      <td>1.0</td>\n",
              "      <td>1.0</td>\n",
              "      <td>25.0</td>\n",
              "      <td>0.0</td>\n",
              "      <td>0.0</td>\n",
              "      <td>2.0</td>\n",
              "      <td>1.0</td>\n",
              "      <td>1.0</td>\n",
              "      <td>0.0</td>\n",
              "      <td>0.0</td>\n",
              "      <td>1.0</td>\n",
              "      <td>0.0</td>\n",
              "      <td>2.0</td>\n",
              "      <td>0.0</td>\n",
              "      <td>0.0</td>\n",
              "      <td>0.0</td>\n",
              "      <td>0.0</td>\n",
              "      <td>9.0</td>\n",
              "      <td>6.0</td>\n",
              "      <td>2.0</td>\n",
              "    </tr>\n",
              "  </tbody>\n",
              "</table>\n",
              "<p>253680 rows × 22 columns</p>\n",
              "</div>\n",
              "      <button class=\"colab-df-convert\" onclick=\"convertToInteractive('df-c02d7296-06b0-458c-9e55-75f3ebc06af0')\"\n",
              "              title=\"Convert this dataframe to an interactive table.\"\n",
              "              style=\"display:none;\">\n",
              "        \n",
              "  <svg xmlns=\"http://www.w3.org/2000/svg\" height=\"24px\"viewBox=\"0 0 24 24\"\n",
              "       width=\"24px\">\n",
              "    <path d=\"M0 0h24v24H0V0z\" fill=\"none\"/>\n",
              "    <path d=\"M18.56 5.44l.94 2.06.94-2.06 2.06-.94-2.06-.94-.94-2.06-.94 2.06-2.06.94zm-11 1L8.5 8.5l.94-2.06 2.06-.94-2.06-.94L8.5 2.5l-.94 2.06-2.06.94zm10 10l.94 2.06.94-2.06 2.06-.94-2.06-.94-.94-2.06-.94 2.06-2.06.94z\"/><path d=\"M17.41 7.96l-1.37-1.37c-.4-.4-.92-.59-1.43-.59-.52 0-1.04.2-1.43.59L10.3 9.45l-7.72 7.72c-.78.78-.78 2.05 0 2.83L4 21.41c.39.39.9.59 1.41.59.51 0 1.02-.2 1.41-.59l7.78-7.78 2.81-2.81c.8-.78.8-2.07 0-2.86zM5.41 20L4 18.59l7.72-7.72 1.47 1.35L5.41 20z\"/>\n",
              "  </svg>\n",
              "      </button>\n",
              "      \n",
              "  <style>\n",
              "    .colab-df-container {\n",
              "      display:flex;\n",
              "      flex-wrap:wrap;\n",
              "      gap: 12px;\n",
              "    }\n",
              "\n",
              "    .colab-df-convert {\n",
              "      background-color: #E8F0FE;\n",
              "      border: none;\n",
              "      border-radius: 50%;\n",
              "      cursor: pointer;\n",
              "      display: none;\n",
              "      fill: #1967D2;\n",
              "      height: 32px;\n",
              "      padding: 0 0 0 0;\n",
              "      width: 32px;\n",
              "    }\n",
              "\n",
              "    .colab-df-convert:hover {\n",
              "      background-color: #E2EBFA;\n",
              "      box-shadow: 0px 1px 2px rgba(60, 64, 67, 0.3), 0px 1px 3px 1px rgba(60, 64, 67, 0.15);\n",
              "      fill: #174EA6;\n",
              "    }\n",
              "\n",
              "    [theme=dark] .colab-df-convert {\n",
              "      background-color: #3B4455;\n",
              "      fill: #D2E3FC;\n",
              "    }\n",
              "\n",
              "    [theme=dark] .colab-df-convert:hover {\n",
              "      background-color: #434B5C;\n",
              "      box-shadow: 0px 1px 3px 1px rgba(0, 0, 0, 0.15);\n",
              "      filter: drop-shadow(0px 1px 2px rgba(0, 0, 0, 0.3));\n",
              "      fill: #FFFFFF;\n",
              "    }\n",
              "  </style>\n",
              "\n",
              "      <script>\n",
              "        const buttonEl =\n",
              "          document.querySelector('#df-c02d7296-06b0-458c-9e55-75f3ebc06af0 button.colab-df-convert');\n",
              "        buttonEl.style.display =\n",
              "          google.colab.kernel.accessAllowed ? 'block' : 'none';\n",
              "\n",
              "        async function convertToInteractive(key) {\n",
              "          const element = document.querySelector('#df-c02d7296-06b0-458c-9e55-75f3ebc06af0');\n",
              "          const dataTable =\n",
              "            await google.colab.kernel.invokeFunction('convertToInteractive',\n",
              "                                                     [key], {});\n",
              "          if (!dataTable) return;\n",
              "\n",
              "          const docLinkHtml = 'Like what you see? Visit the ' +\n",
              "            '<a target=\"_blank\" href=https://colab.research.google.com/notebooks/data_table.ipynb>data table notebook</a>'\n",
              "            + ' to learn more about interactive tables.';\n",
              "          element.innerHTML = '';\n",
              "          dataTable['output_type'] = 'display_data';\n",
              "          await google.colab.output.renderOutput(dataTable, element);\n",
              "          const docLink = document.createElement('div');\n",
              "          docLink.innerHTML = docLinkHtml;\n",
              "          element.appendChild(docLink);\n",
              "        }\n",
              "      </script>\n",
              "    </div>\n",
              "  </div>\n",
              "  "
            ],
            "text/plain": [
              "        HeartDiseaseorAttack  HighBP  HighChol  ...   Age  Education  Income\n",
              "0                        0.0     1.0       1.0  ...   9.0        4.0     3.0\n",
              "1                        0.0     0.0       0.0  ...   7.0        6.0     1.0\n",
              "2                        0.0     1.0       1.0  ...   9.0        4.0     8.0\n",
              "3                        0.0     1.0       0.0  ...  11.0        3.0     6.0\n",
              "4                        0.0     1.0       1.0  ...  11.0        5.0     4.0\n",
              "...                      ...     ...       ...  ...   ...        ...     ...\n",
              "253675                   0.0     1.0       1.0  ...   5.0        6.0     7.0\n",
              "253676                   0.0     1.0       1.0  ...  11.0        2.0     4.0\n",
              "253677                   0.0     0.0       0.0  ...   2.0        5.0     2.0\n",
              "253678                   0.0     1.0       0.0  ...   7.0        5.0     1.0\n",
              "253679                   1.0     1.0       1.0  ...   9.0        6.0     2.0\n",
              "\n",
              "[253680 rows x 22 columns]"
            ]
          },
          "metadata": {},
          "execution_count": 2
        }
      ],
      "source": [
        "# Import Pandas library\n",
        "import pandas as pd\n",
        "\n",
        "# Define the dataset\n",
        "dataset = pd.read_csv('/content/drive/MyDrive/Datasets/Github Projects/heart_disease_health_indicators_BRFSS2015.csv')\n",
        "dataset"
      ]
    },
    {
      "cell_type": "code",
      "source": [
        "# Get dataset information\n",
        "dataset.info()"
      ],
      "metadata": {
        "colab": {
          "base_uri": "https://localhost:8080/"
        },
        "id": "MUJlZC0XJT4n",
        "outputId": "e8b1f5e1-8e41-43d8-b2aa-e33922008645"
      },
      "execution_count": 3,
      "outputs": [
        {
          "output_type": "stream",
          "name": "stdout",
          "text": [
            "<class 'pandas.core.frame.DataFrame'>\n",
            "RangeIndex: 253680 entries, 0 to 253679\n",
            "Data columns (total 22 columns):\n",
            " #   Column                Non-Null Count   Dtype  \n",
            "---  ------                --------------   -----  \n",
            " 0   HeartDiseaseorAttack  253680 non-null  float64\n",
            " 1   HighBP                253680 non-null  float64\n",
            " 2   HighChol              253680 non-null  float64\n",
            " 3   CholCheck             253680 non-null  float64\n",
            " 4   BMI                   253680 non-null  float64\n",
            " 5   Smoker                253680 non-null  float64\n",
            " 6   Stroke                253680 non-null  float64\n",
            " 7   Diabetes              253680 non-null  float64\n",
            " 8   PhysActivity          253680 non-null  float64\n",
            " 9   Fruits                253680 non-null  float64\n",
            " 10  Veggies               253680 non-null  float64\n",
            " 11  HvyAlcoholConsump     253680 non-null  float64\n",
            " 12  AnyHealthcare         253680 non-null  float64\n",
            " 13  NoDocbcCost           253680 non-null  float64\n",
            " 14  GenHlth               253680 non-null  float64\n",
            " 15  MentHlth              253680 non-null  float64\n",
            " 16  PhysHlth              253680 non-null  float64\n",
            " 17  DiffWalk              253680 non-null  float64\n",
            " 18  Sex                   253680 non-null  float64\n",
            " 19  Age                   253680 non-null  float64\n",
            " 20  Education             253680 non-null  float64\n",
            " 21  Income                253680 non-null  float64\n",
            "dtypes: float64(22)\n",
            "memory usage: 42.6 MB\n"
          ]
        }
      ]
    },
    {
      "cell_type": "code",
      "source": [
        "# Get the descriptive analytics from the data\n",
        "dataset.describe().transpose()"
      ],
      "metadata": {
        "colab": {
          "base_uri": "https://localhost:8080/",
          "height": 739
        },
        "id": "ySlAxOxBJGtM",
        "outputId": "5816bc99-f8a4-4ce0-dfb5-12bb1034789b"
      },
      "execution_count": 4,
      "outputs": [
        {
          "output_type": "execute_result",
          "data": {
            "text/html": [
              "\n",
              "  <div id=\"df-4cb194d0-416f-44d9-879f-7e107d9533ed\">\n",
              "    <div class=\"colab-df-container\">\n",
              "      <div>\n",
              "<style scoped>\n",
              "    .dataframe tbody tr th:only-of-type {\n",
              "        vertical-align: middle;\n",
              "    }\n",
              "\n",
              "    .dataframe tbody tr th {\n",
              "        vertical-align: top;\n",
              "    }\n",
              "\n",
              "    .dataframe thead th {\n",
              "        text-align: right;\n",
              "    }\n",
              "</style>\n",
              "<table border=\"1\" class=\"dataframe\">\n",
              "  <thead>\n",
              "    <tr style=\"text-align: right;\">\n",
              "      <th></th>\n",
              "      <th>count</th>\n",
              "      <th>mean</th>\n",
              "      <th>std</th>\n",
              "      <th>min</th>\n",
              "      <th>25%</th>\n",
              "      <th>50%</th>\n",
              "      <th>75%</th>\n",
              "      <th>max</th>\n",
              "    </tr>\n",
              "  </thead>\n",
              "  <tbody>\n",
              "    <tr>\n",
              "      <th>HeartDiseaseorAttack</th>\n",
              "      <td>253680.0</td>\n",
              "      <td>0.094186</td>\n",
              "      <td>0.292087</td>\n",
              "      <td>0.0</td>\n",
              "      <td>0.0</td>\n",
              "      <td>0.0</td>\n",
              "      <td>0.0</td>\n",
              "      <td>1.0</td>\n",
              "    </tr>\n",
              "    <tr>\n",
              "      <th>HighBP</th>\n",
              "      <td>253680.0</td>\n",
              "      <td>0.429001</td>\n",
              "      <td>0.494934</td>\n",
              "      <td>0.0</td>\n",
              "      <td>0.0</td>\n",
              "      <td>0.0</td>\n",
              "      <td>1.0</td>\n",
              "      <td>1.0</td>\n",
              "    </tr>\n",
              "    <tr>\n",
              "      <th>HighChol</th>\n",
              "      <td>253680.0</td>\n",
              "      <td>0.424121</td>\n",
              "      <td>0.494210</td>\n",
              "      <td>0.0</td>\n",
              "      <td>0.0</td>\n",
              "      <td>0.0</td>\n",
              "      <td>1.0</td>\n",
              "      <td>1.0</td>\n",
              "    </tr>\n",
              "    <tr>\n",
              "      <th>CholCheck</th>\n",
              "      <td>253680.0</td>\n",
              "      <td>0.962670</td>\n",
              "      <td>0.189571</td>\n",
              "      <td>0.0</td>\n",
              "      <td>1.0</td>\n",
              "      <td>1.0</td>\n",
              "      <td>1.0</td>\n",
              "      <td>1.0</td>\n",
              "    </tr>\n",
              "    <tr>\n",
              "      <th>BMI</th>\n",
              "      <td>253680.0</td>\n",
              "      <td>28.382364</td>\n",
              "      <td>6.608694</td>\n",
              "      <td>12.0</td>\n",
              "      <td>24.0</td>\n",
              "      <td>27.0</td>\n",
              "      <td>31.0</td>\n",
              "      <td>98.0</td>\n",
              "    </tr>\n",
              "    <tr>\n",
              "      <th>Smoker</th>\n",
              "      <td>253680.0</td>\n",
              "      <td>0.443169</td>\n",
              "      <td>0.496761</td>\n",
              "      <td>0.0</td>\n",
              "      <td>0.0</td>\n",
              "      <td>0.0</td>\n",
              "      <td>1.0</td>\n",
              "      <td>1.0</td>\n",
              "    </tr>\n",
              "    <tr>\n",
              "      <th>Stroke</th>\n",
              "      <td>253680.0</td>\n",
              "      <td>0.040571</td>\n",
              "      <td>0.197294</td>\n",
              "      <td>0.0</td>\n",
              "      <td>0.0</td>\n",
              "      <td>0.0</td>\n",
              "      <td>0.0</td>\n",
              "      <td>1.0</td>\n",
              "    </tr>\n",
              "    <tr>\n",
              "      <th>Diabetes</th>\n",
              "      <td>253680.0</td>\n",
              "      <td>0.296921</td>\n",
              "      <td>0.698160</td>\n",
              "      <td>0.0</td>\n",
              "      <td>0.0</td>\n",
              "      <td>0.0</td>\n",
              "      <td>0.0</td>\n",
              "      <td>2.0</td>\n",
              "    </tr>\n",
              "    <tr>\n",
              "      <th>PhysActivity</th>\n",
              "      <td>253680.0</td>\n",
              "      <td>0.756544</td>\n",
              "      <td>0.429169</td>\n",
              "      <td>0.0</td>\n",
              "      <td>1.0</td>\n",
              "      <td>1.0</td>\n",
              "      <td>1.0</td>\n",
              "      <td>1.0</td>\n",
              "    </tr>\n",
              "    <tr>\n",
              "      <th>Fruits</th>\n",
              "      <td>253680.0</td>\n",
              "      <td>0.634256</td>\n",
              "      <td>0.481639</td>\n",
              "      <td>0.0</td>\n",
              "      <td>0.0</td>\n",
              "      <td>1.0</td>\n",
              "      <td>1.0</td>\n",
              "      <td>1.0</td>\n",
              "    </tr>\n",
              "    <tr>\n",
              "      <th>Veggies</th>\n",
              "      <td>253680.0</td>\n",
              "      <td>0.811420</td>\n",
              "      <td>0.391175</td>\n",
              "      <td>0.0</td>\n",
              "      <td>1.0</td>\n",
              "      <td>1.0</td>\n",
              "      <td>1.0</td>\n",
              "      <td>1.0</td>\n",
              "    </tr>\n",
              "    <tr>\n",
              "      <th>HvyAlcoholConsump</th>\n",
              "      <td>253680.0</td>\n",
              "      <td>0.056197</td>\n",
              "      <td>0.230302</td>\n",
              "      <td>0.0</td>\n",
              "      <td>0.0</td>\n",
              "      <td>0.0</td>\n",
              "      <td>0.0</td>\n",
              "      <td>1.0</td>\n",
              "    </tr>\n",
              "    <tr>\n",
              "      <th>AnyHealthcare</th>\n",
              "      <td>253680.0</td>\n",
              "      <td>0.951053</td>\n",
              "      <td>0.215759</td>\n",
              "      <td>0.0</td>\n",
              "      <td>1.0</td>\n",
              "      <td>1.0</td>\n",
              "      <td>1.0</td>\n",
              "      <td>1.0</td>\n",
              "    </tr>\n",
              "    <tr>\n",
              "      <th>NoDocbcCost</th>\n",
              "      <td>253680.0</td>\n",
              "      <td>0.084177</td>\n",
              "      <td>0.277654</td>\n",
              "      <td>0.0</td>\n",
              "      <td>0.0</td>\n",
              "      <td>0.0</td>\n",
              "      <td>0.0</td>\n",
              "      <td>1.0</td>\n",
              "    </tr>\n",
              "    <tr>\n",
              "      <th>GenHlth</th>\n",
              "      <td>253680.0</td>\n",
              "      <td>2.511392</td>\n",
              "      <td>1.068477</td>\n",
              "      <td>1.0</td>\n",
              "      <td>2.0</td>\n",
              "      <td>2.0</td>\n",
              "      <td>3.0</td>\n",
              "      <td>5.0</td>\n",
              "    </tr>\n",
              "    <tr>\n",
              "      <th>MentHlth</th>\n",
              "      <td>253680.0</td>\n",
              "      <td>3.184772</td>\n",
              "      <td>7.412847</td>\n",
              "      <td>0.0</td>\n",
              "      <td>0.0</td>\n",
              "      <td>0.0</td>\n",
              "      <td>2.0</td>\n",
              "      <td>30.0</td>\n",
              "    </tr>\n",
              "    <tr>\n",
              "      <th>PhysHlth</th>\n",
              "      <td>253680.0</td>\n",
              "      <td>4.242081</td>\n",
              "      <td>8.717951</td>\n",
              "      <td>0.0</td>\n",
              "      <td>0.0</td>\n",
              "      <td>0.0</td>\n",
              "      <td>3.0</td>\n",
              "      <td>30.0</td>\n",
              "    </tr>\n",
              "    <tr>\n",
              "      <th>DiffWalk</th>\n",
              "      <td>253680.0</td>\n",
              "      <td>0.168224</td>\n",
              "      <td>0.374066</td>\n",
              "      <td>0.0</td>\n",
              "      <td>0.0</td>\n",
              "      <td>0.0</td>\n",
              "      <td>0.0</td>\n",
              "      <td>1.0</td>\n",
              "    </tr>\n",
              "    <tr>\n",
              "      <th>Sex</th>\n",
              "      <td>253680.0</td>\n",
              "      <td>0.440342</td>\n",
              "      <td>0.496429</td>\n",
              "      <td>0.0</td>\n",
              "      <td>0.0</td>\n",
              "      <td>0.0</td>\n",
              "      <td>1.0</td>\n",
              "      <td>1.0</td>\n",
              "    </tr>\n",
              "    <tr>\n",
              "      <th>Age</th>\n",
              "      <td>253680.0</td>\n",
              "      <td>8.032119</td>\n",
              "      <td>3.054220</td>\n",
              "      <td>1.0</td>\n",
              "      <td>6.0</td>\n",
              "      <td>8.0</td>\n",
              "      <td>10.0</td>\n",
              "      <td>13.0</td>\n",
              "    </tr>\n",
              "    <tr>\n",
              "      <th>Education</th>\n",
              "      <td>253680.0</td>\n",
              "      <td>5.050434</td>\n",
              "      <td>0.985774</td>\n",
              "      <td>1.0</td>\n",
              "      <td>4.0</td>\n",
              "      <td>5.0</td>\n",
              "      <td>6.0</td>\n",
              "      <td>6.0</td>\n",
              "    </tr>\n",
              "    <tr>\n",
              "      <th>Income</th>\n",
              "      <td>253680.0</td>\n",
              "      <td>6.053875</td>\n",
              "      <td>2.071148</td>\n",
              "      <td>1.0</td>\n",
              "      <td>5.0</td>\n",
              "      <td>7.0</td>\n",
              "      <td>8.0</td>\n",
              "      <td>8.0</td>\n",
              "    </tr>\n",
              "  </tbody>\n",
              "</table>\n",
              "</div>\n",
              "      <button class=\"colab-df-convert\" onclick=\"convertToInteractive('df-4cb194d0-416f-44d9-879f-7e107d9533ed')\"\n",
              "              title=\"Convert this dataframe to an interactive table.\"\n",
              "              style=\"display:none;\">\n",
              "        \n",
              "  <svg xmlns=\"http://www.w3.org/2000/svg\" height=\"24px\"viewBox=\"0 0 24 24\"\n",
              "       width=\"24px\">\n",
              "    <path d=\"M0 0h24v24H0V0z\" fill=\"none\"/>\n",
              "    <path d=\"M18.56 5.44l.94 2.06.94-2.06 2.06-.94-2.06-.94-.94-2.06-.94 2.06-2.06.94zm-11 1L8.5 8.5l.94-2.06 2.06-.94-2.06-.94L8.5 2.5l-.94 2.06-2.06.94zm10 10l.94 2.06.94-2.06 2.06-.94-2.06-.94-.94-2.06-.94 2.06-2.06.94z\"/><path d=\"M17.41 7.96l-1.37-1.37c-.4-.4-.92-.59-1.43-.59-.52 0-1.04.2-1.43.59L10.3 9.45l-7.72 7.72c-.78.78-.78 2.05 0 2.83L4 21.41c.39.39.9.59 1.41.59.51 0 1.02-.2 1.41-.59l7.78-7.78 2.81-2.81c.8-.78.8-2.07 0-2.86zM5.41 20L4 18.59l7.72-7.72 1.47 1.35L5.41 20z\"/>\n",
              "  </svg>\n",
              "      </button>\n",
              "      \n",
              "  <style>\n",
              "    .colab-df-container {\n",
              "      display:flex;\n",
              "      flex-wrap:wrap;\n",
              "      gap: 12px;\n",
              "    }\n",
              "\n",
              "    .colab-df-convert {\n",
              "      background-color: #E8F0FE;\n",
              "      border: none;\n",
              "      border-radius: 50%;\n",
              "      cursor: pointer;\n",
              "      display: none;\n",
              "      fill: #1967D2;\n",
              "      height: 32px;\n",
              "      padding: 0 0 0 0;\n",
              "      width: 32px;\n",
              "    }\n",
              "\n",
              "    .colab-df-convert:hover {\n",
              "      background-color: #E2EBFA;\n",
              "      box-shadow: 0px 1px 2px rgba(60, 64, 67, 0.3), 0px 1px 3px 1px rgba(60, 64, 67, 0.15);\n",
              "      fill: #174EA6;\n",
              "    }\n",
              "\n",
              "    [theme=dark] .colab-df-convert {\n",
              "      background-color: #3B4455;\n",
              "      fill: #D2E3FC;\n",
              "    }\n",
              "\n",
              "    [theme=dark] .colab-df-convert:hover {\n",
              "      background-color: #434B5C;\n",
              "      box-shadow: 0px 1px 3px 1px rgba(0, 0, 0, 0.15);\n",
              "      filter: drop-shadow(0px 1px 2px rgba(0, 0, 0, 0.3));\n",
              "      fill: #FFFFFF;\n",
              "    }\n",
              "  </style>\n",
              "\n",
              "      <script>\n",
              "        const buttonEl =\n",
              "          document.querySelector('#df-4cb194d0-416f-44d9-879f-7e107d9533ed button.colab-df-convert');\n",
              "        buttonEl.style.display =\n",
              "          google.colab.kernel.accessAllowed ? 'block' : 'none';\n",
              "\n",
              "        async function convertToInteractive(key) {\n",
              "          const element = document.querySelector('#df-4cb194d0-416f-44d9-879f-7e107d9533ed');\n",
              "          const dataTable =\n",
              "            await google.colab.kernel.invokeFunction('convertToInteractive',\n",
              "                                                     [key], {});\n",
              "          if (!dataTable) return;\n",
              "\n",
              "          const docLinkHtml = 'Like what you see? Visit the ' +\n",
              "            '<a target=\"_blank\" href=https://colab.research.google.com/notebooks/data_table.ipynb>data table notebook</a>'\n",
              "            + ' to learn more about interactive tables.';\n",
              "          element.innerHTML = '';\n",
              "          dataTable['output_type'] = 'display_data';\n",
              "          await google.colab.output.renderOutput(dataTable, element);\n",
              "          const docLink = document.createElement('div');\n",
              "          docLink.innerHTML = docLinkHtml;\n",
              "          element.appendChild(docLink);\n",
              "        }\n",
              "      </script>\n",
              "    </div>\n",
              "  </div>\n",
              "  "
            ],
            "text/plain": [
              "                         count       mean       std  ...   50%   75%   max\n",
              "HeartDiseaseorAttack  253680.0   0.094186  0.292087  ...   0.0   0.0   1.0\n",
              "HighBP                253680.0   0.429001  0.494934  ...   0.0   1.0   1.0\n",
              "HighChol              253680.0   0.424121  0.494210  ...   0.0   1.0   1.0\n",
              "CholCheck             253680.0   0.962670  0.189571  ...   1.0   1.0   1.0\n",
              "BMI                   253680.0  28.382364  6.608694  ...  27.0  31.0  98.0\n",
              "Smoker                253680.0   0.443169  0.496761  ...   0.0   1.0   1.0\n",
              "Stroke                253680.0   0.040571  0.197294  ...   0.0   0.0   1.0\n",
              "Diabetes              253680.0   0.296921  0.698160  ...   0.0   0.0   2.0\n",
              "PhysActivity          253680.0   0.756544  0.429169  ...   1.0   1.0   1.0\n",
              "Fruits                253680.0   0.634256  0.481639  ...   1.0   1.0   1.0\n",
              "Veggies               253680.0   0.811420  0.391175  ...   1.0   1.0   1.0\n",
              "HvyAlcoholConsump     253680.0   0.056197  0.230302  ...   0.0   0.0   1.0\n",
              "AnyHealthcare         253680.0   0.951053  0.215759  ...   1.0   1.0   1.0\n",
              "NoDocbcCost           253680.0   0.084177  0.277654  ...   0.0   0.0   1.0\n",
              "GenHlth               253680.0   2.511392  1.068477  ...   2.0   3.0   5.0\n",
              "MentHlth              253680.0   3.184772  7.412847  ...   0.0   2.0  30.0\n",
              "PhysHlth              253680.0   4.242081  8.717951  ...   0.0   3.0  30.0\n",
              "DiffWalk              253680.0   0.168224  0.374066  ...   0.0   0.0   1.0\n",
              "Sex                   253680.0   0.440342  0.496429  ...   0.0   1.0   1.0\n",
              "Age                   253680.0   8.032119  3.054220  ...   8.0  10.0  13.0\n",
              "Education             253680.0   5.050434  0.985774  ...   5.0   6.0   6.0\n",
              "Income                253680.0   6.053875  2.071148  ...   7.0   8.0   8.0\n",
              "\n",
              "[22 rows x 8 columns]"
            ]
          },
          "metadata": {},
          "execution_count": 4
        }
      ]
    },
    {
      "cell_type": "code",
      "source": [
        "# Count each label values\n",
        "dataset['HeartDiseaseorAttack'].value_counts()"
      ],
      "metadata": {
        "id": "BK3Z3VLSv3Xd",
        "colab": {
          "base_uri": "https://localhost:8080/"
        },
        "outputId": "06baaf8a-a44a-4906-a47e-83aa8d971363"
      },
      "execution_count": 5,
      "outputs": [
        {
          "output_type": "execute_result",
          "data": {
            "text/plain": [
              "0.0    229787\n",
              "1.0     23893\n",
              "Name: HeartDiseaseorAttack, dtype: int64"
            ]
          },
          "metadata": {},
          "execution_count": 5
        }
      ]
    },
    {
      "cell_type": "markdown",
      "source": [
        "This dataset is **imbalanced**, so we will do undersampling in the next step."
      ],
      "metadata": {
        "id": "gX4VWzMC1EdP"
      }
    },
    {
      "cell_type": "markdown",
      "source": [
        "# **2. Data Preprocessing**"
      ],
      "metadata": {
        "id": "qVGKMECiKvns"
      }
    },
    {
      "cell_type": "code",
      "source": [
        "# Define attribute column (X) and label column (Y)\n",
        "X = dataset.iloc[:,1:]\n",
        "Y = dataset['HeartDiseaseorAttack']"
      ],
      "metadata": {
        "id": "z6LDFUzqKt1n"
      },
      "execution_count": 6,
      "outputs": []
    },
    {
      "cell_type": "code",
      "source": [
        "# Import undersampling tools for Imbalanced Dataset Handling\n",
        "from collections import Counter\n",
        "from imblearn.under_sampling import RandomUnderSampler\n",
        "\n",
        "print(\"Before undersampling : \", Counter(Y))\n",
        "\n",
        "# Define undersampling\n",
        "undersampler = RandomUnderSampler(sampling_strategy='majority')\n",
        "\n",
        "# Fit undersampler method\n",
        "X_undersampled, Y_undersampled = undersampler.fit_resample(X,Y)\n",
        "\n",
        "print(\"After undersampling  : \", Counter(Y_undersampled))"
      ],
      "metadata": {
        "colab": {
          "base_uri": "https://localhost:8080/"
        },
        "id": "EsCEyM-ax21o",
        "outputId": "bbe1aa98-e570-47c1-a5e4-fe5eec4f1f6f"
      },
      "execution_count": 7,
      "outputs": [
        {
          "output_type": "stream",
          "name": "stdout",
          "text": [
            "Before undersampling :  Counter({0.0: 229787, 1.0: 23893})\n",
            "After undersampling  :  Counter({0.0: 23893, 1.0: 23893})\n"
          ]
        }
      ]
    },
    {
      "cell_type": "code",
      "source": [
        "# Import MinMaxScaler library\n",
        "from sklearn.preprocessing import MinMaxScaler\n",
        "\n",
        "# Scaling the attributes (X)\n",
        "scaler = MinMaxScaler()\n",
        "scaler.fit(X_undersampled)\n",
        "X_undersampled = scaler.transform(X_undersampled)"
      ],
      "metadata": {
        "id": "7j1urpRHgSQe"
      },
      "execution_count": 8,
      "outputs": []
    },
    {
      "cell_type": "code",
      "source": [
        "# Show X (after scaling)\n",
        "X_undersampled"
      ],
      "metadata": {
        "colab": {
          "base_uri": "https://localhost:8080/"
        },
        "id": "4PxsErQKgUBs",
        "outputId": "26fdb92c-54b4-41c6-b2c2-fa09a04888b4"
      },
      "execution_count": 9,
      "outputs": [
        {
          "output_type": "execute_result",
          "data": {
            "text/plain": [
              "array([[1.        , 0.        , 1.        , ..., 0.58333333, 0.8       ,\n",
              "        1.        ],\n",
              "       [0.        , 1.        , 1.        , ..., 0.41666667, 1.        ,\n",
              "        1.        ],\n",
              "       [0.        , 1.        , 1.        , ..., 0.33333333, 0.8       ,\n",
              "        1.        ],\n",
              "       ...,\n",
              "       [1.        , 1.        , 1.        , ..., 0.58333333, 0.4       ,\n",
              "        0.14285714],\n",
              "       [1.        , 0.        , 1.        , ..., 0.91666667, 0.2       ,\n",
              "        0.        ],\n",
              "       [1.        , 1.        , 1.        , ..., 0.66666667, 1.        ,\n",
              "        0.14285714]])"
            ]
          },
          "metadata": {},
          "execution_count": 9
        }
      ]
    },
    {
      "cell_type": "code",
      "source": [
        "# Import splitter\n",
        "from sklearn.model_selection import train_test_split\n",
        "# Split dataset into train and test set\n",
        "X_train, X_test, y_train, y_test = train_test_split(X_undersampled, Y_undersampled, test_size=0.15, random_state=4)"
      ],
      "metadata": {
        "id": "Xdh3yCoyTn1u"
      },
      "execution_count": 10,
      "outputs": []
    },
    {
      "cell_type": "markdown",
      "source": [
        "# **3. Modelling**"
      ],
      "metadata": {
        "id": "F7NMHpZ8VE62"
      }
    },
    {
      "cell_type": "markdown",
      "source": [
        "### **3.1. K-Nearest Neighbors**"
      ],
      "metadata": {
        "id": "JMaELXoDXkpw"
      }
    },
    {
      "cell_type": "code",
      "source": [
        "# Import Classifier\n",
        "from sklearn.neighbors import KNeighborsClassifier\n",
        "\n",
        "# Define and fit the model\n",
        "KNN_model = KNeighborsClassifier()\n",
        "KNN_model.fit(X_train,y_train)\n",
        "\n",
        "# Make a prediction using test set\n",
        "KNN_prediction = KNN_model.predict(X_test)\n",
        "KNN_prediction"
      ],
      "metadata": {
        "id": "DAh6CN3EVKGk",
        "colab": {
          "base_uri": "https://localhost:8080/"
        },
        "outputId": "c1073777-41d0-41ba-e6ca-b658ebc0fe3e"
      },
      "execution_count": 20,
      "outputs": [
        {
          "output_type": "execute_result",
          "data": {
            "text/plain": [
              "array([1., 0., 0., ..., 1., 1., 0.])"
            ]
          },
          "metadata": {},
          "execution_count": 20
        }
      ]
    },
    {
      "cell_type": "markdown",
      "source": [
        "### **3.2. Support Vector Machine**"
      ],
      "metadata": {
        "id": "DG0j5saEZ0Nv"
      }
    },
    {
      "cell_type": "code",
      "source": [
        "# Import Classifier\n",
        "from sklearn.svm import SVC\n",
        "\n",
        "# Define and fit the model\n",
        "SVM_model = SVC()\n",
        "SVM_model.fit(X_train,y_train)\n",
        "\n",
        "# Make a prediction using test set\n",
        "SVM_prediction = SVM_model.predict(X_test)\n",
        "SVM_prediction"
      ],
      "metadata": {
        "id": "O3PqmtnbaA24",
        "colab": {
          "base_uri": "https://localhost:8080/"
        },
        "outputId": "1bd88c7a-7fca-4bda-8946-829dc8d8e953"
      },
      "execution_count": 21,
      "outputs": [
        {
          "output_type": "execute_result",
          "data": {
            "text/plain": [
              "array([1., 1., 0., ..., 1., 1., 0.])"
            ]
          },
          "metadata": {},
          "execution_count": 21
        }
      ]
    },
    {
      "cell_type": "markdown",
      "source": [
        "### **3.3. Random Forest**"
      ],
      "metadata": {
        "id": "hhn7yuDyaYxs"
      }
    },
    {
      "cell_type": "code",
      "source": [
        "# Import Classifier\n",
        "from sklearn.ensemble import RandomForestClassifier\n",
        "\n",
        "# Define and fit the model\n",
        "RF_model = RandomForestClassifier()\n",
        "RF_model.fit(X_train,y_train)\n",
        "\n",
        "# Make a prediction using test set\n",
        "RF_prediction = RF_model.predict(X_test)\n",
        "RF_prediction"
      ],
      "metadata": {
        "id": "cmdac73GaV3e",
        "colab": {
          "base_uri": "https://localhost:8080/"
        },
        "outputId": "c30cac39-364d-4fe0-972c-e3580bc9ad7d"
      },
      "execution_count": 22,
      "outputs": [
        {
          "output_type": "execute_result",
          "data": {
            "text/plain": [
              "array([1., 0., 0., ..., 1., 1., 0.])"
            ]
          },
          "metadata": {},
          "execution_count": 22
        }
      ]
    },
    {
      "cell_type": "markdown",
      "source": [
        "### **3.4. Naive Bayes**"
      ],
      "metadata": {
        "id": "ZWZBDvNdayYn"
      }
    },
    {
      "cell_type": "code",
      "source": [
        "# Import Classifier \n",
        "from sklearn.naive_bayes import GaussianNB\n",
        "\n",
        "# Define and fit the model\n",
        "NB_model = GaussianNB()\n",
        "NB_model.fit(X_train,y_train)\n",
        "\n",
        "# Make a prediction using test set\n",
        "NB_prediction = NB_model.predict(X_test)\n",
        "NB_prediction"
      ],
      "metadata": {
        "id": "IHtGTJuEa40f",
        "colab": {
          "base_uri": "https://localhost:8080/"
        },
        "outputId": "3a643e18-b2f9-4e71-db6c-9205cef75980"
      },
      "execution_count": 23,
      "outputs": [
        {
          "output_type": "execute_result",
          "data": {
            "text/plain": [
              "array([1., 1., 0., ..., 1., 1., 0.])"
            ]
          },
          "metadata": {},
          "execution_count": 23
        }
      ]
    },
    {
      "cell_type": "markdown",
      "source": [
        "### **3.5. MLP Classifier (using Neural Network)**"
      ],
      "metadata": {
        "id": "saF5-OtIbWpM"
      }
    },
    {
      "cell_type": "code",
      "source": [
        "# Import Classifier \n",
        "from sklearn.neural_network import MLPClassifier\n",
        "\n",
        "# Define and fit the model\n",
        "MLP_model = MLPClassifier(hidden_layer_sizes=100, activation='relu', solver='adam')\n",
        "MLP_model.fit(X_train,y_train)\n",
        "\n",
        "# Make a prediction using test set\n",
        "MLP_prediction = MLP_model.predict(X_test)\n",
        "MLP_prediction"
      ],
      "metadata": {
        "id": "878qqvFpbmXk",
        "colab": {
          "base_uri": "https://localhost:8080/"
        },
        "outputId": "17402881-e1de-4397-9d8e-defc1ed9c532"
      },
      "execution_count": 24,
      "outputs": [
        {
          "output_type": "execute_result",
          "data": {
            "text/plain": [
              "array([1., 1., 0., ..., 1., 1., 0.])"
            ]
          },
          "metadata": {},
          "execution_count": 24
        }
      ]
    },
    {
      "cell_type": "markdown",
      "source": [
        "# **4. Evaluation**"
      ],
      "metadata": {
        "id": "1IrkKj4bctaG"
      }
    },
    {
      "cell_type": "code",
      "source": [
        "# Import Metrics library\n",
        "from sklearn.metrics import accuracy_score, recall_score, precision_score"
      ],
      "metadata": {
        "id": "YanbKFKPcsc6"
      },
      "execution_count": 16,
      "outputs": []
    },
    {
      "cell_type": "code",
      "source": [
        "# Show accuracy score\n",
        "print(\"Skor Akurasi K-Nearest Neighbor     : \",round((accuracy_score(y_test,KNN_prediction))*100,2),\"%\")\n",
        "print(\"Skor Akurasi Support Vector Machine : \",round((accuracy_score(y_test,SVM_prediction))*100,2),\"%\")\n",
        "print(\"Skor Akurasi Random Forest          : \",round((accuracy_score(y_test,RF_prediction))*100,2),\"%\")\n",
        "print(\"Skor Akurasi Naive Bayes            : \",round((accuracy_score(y_test,NB_prediction))*100,2),\"%\")\n",
        "print(\"Skor Akurasi MLP Classifier         : \",round((accuracy_score(y_test,MLP_prediction))*100,2),\"%\")"
      ],
      "metadata": {
        "colab": {
          "base_uri": "https://localhost:8080/"
        },
        "id": "H9OAhaiqdI3l",
        "outputId": "d5a80055-1075-4c12-a643-10729618e7e8"
      },
      "execution_count": 25,
      "outputs": [
        {
          "output_type": "stream",
          "name": "stdout",
          "text": [
            "Skor Akurasi K-Nearest Neighbor     :  73.58 %\n",
            "Skor Akurasi Support Vector Machine :  77.29 %\n",
            "Skor Akurasi Random Forest          :  76.13 %\n",
            "Skor Akurasi Naive Bayes            :  72.88 %\n",
            "Skor Akurasi MLP Classifier         :  77.22 %\n"
          ]
        }
      ]
    },
    {
      "cell_type": "code",
      "source": [
        "# Show precision score\n",
        "print(\"Skor Presisi K-Nearest Neighbor     : \",round((precision_score(y_test,KNN_prediction))*100,2),\"%\")\n",
        "print(\"Skor Presisi Support Vector Machine : \",round((precision_score(y_test,SVM_prediction))*100,2),\"%\")\n",
        "print(\"Skor Presisi Random Forest          : \",round((precision_score(y_test,RF_prediction))*100,2),\"%\")\n",
        "print(\"Skor Presisi Naive Bayes            : \",round((precision_score(y_test,NB_prediction))*100,2),\"%\")\n",
        "print(\"Skor Presisi MLP Classifier         : \",round((precision_score(y_test,MLP_prediction))*100,2),\"%\")"
      ],
      "metadata": {
        "colab": {
          "base_uri": "https://localhost:8080/"
        },
        "id": "RcgjzkWz6Adx",
        "outputId": "1ea3eb83-395d-4d90-da3f-a7fa5381f1b6"
      },
      "execution_count": 26,
      "outputs": [
        {
          "output_type": "stream",
          "name": "stdout",
          "text": [
            "Skor Presisi K-Nearest Neighbor     :  72.47 %\n",
            "Skor Presisi Support Vector Machine :  74.67 %\n",
            "Skor Presisi Random Forest          :  74.2 %\n",
            "Skor Presisi Naive Bayes            :  74.95 %\n",
            "Skor Presisi MLP Classifier         :  75.03 %\n"
          ]
        }
      ]
    },
    {
      "cell_type": "code",
      "source": [
        "# Show recall score\n",
        "print(\"Skor Recall K-Nearest Neighbor     : \",round((recall_score(y_test,KNN_prediction))*100,2),\"%\")\n",
        "print(\"Skor Recall Support Vector Machine : \",round((recall_score(y_test,SVM_prediction))*100,2),\"%\")\n",
        "print(\"Skor Recall Random Forest          : \",round((recall_score(y_test,RF_prediction))*100,2),\"%\")\n",
        "print(\"Skor Recall Naive Bayes            : \",round((recall_score(y_test,NB_prediction))*100,2),\"%\")\n",
        "print(\"Skor Recall MLP Classifier         : \",round((recall_score(y_test,MLP_prediction))*100,2),\"%\")"
      ],
      "metadata": {
        "colab": {
          "base_uri": "https://localhost:8080/"
        },
        "id": "fbynW-H95shm",
        "outputId": "657994e0-3d3b-4465-f76c-6baac57c9539"
      },
      "execution_count": 27,
      "outputs": [
        {
          "output_type": "stream",
          "name": "stdout",
          "text": [
            "Skor Recall K-Nearest Neighbor     :  76.18 %\n",
            "Skor Recall Support Vector Machine :  82.7 %\n",
            "Skor Recall Random Forest          :  80.25 %\n",
            "Skor Recall Naive Bayes            :  68.86 %\n",
            "Skor Recall MLP Classifier         :  81.7 %\n"
          ]
        }
      ]
    }
  ]
}